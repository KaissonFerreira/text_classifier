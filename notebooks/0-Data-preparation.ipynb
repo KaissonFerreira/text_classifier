{
 "cells": [
  {
   "cell_type": "markdown",
   "metadata": {},
   "source": [
    "# Objetivo Geral:\n",
    "\n",
    "**Construir um algoritmo que classifique os comentários calculando a probabilidade de se recomendar o produto para algum(a) amigo(a)**\n",
    "\n",
    "### Objetivo específico desse notebook:\n",
    "\n",
    "- Preparar a base de treino, teste e validação."
   ]
  },
  {
   "cell_type": "markdown",
   "metadata": {},
   "source": [
    "# 0.0 Imports"
   ]
  },
  {
   "cell_type": "code",
   "execution_count": 2,
   "metadata": {},
   "outputs": [],
   "source": [
    "# Visualization\n",
    "import matplotlib.pyplot as plt\n",
    "import seaborn as sns\n",
    "\n",
    "# Data manipulation\n",
    "import pandas as pd\n",
    "import re\n",
    "\n",
    "# Config path and dir\n",
    "import pathlib\n",
    "import os\n"
   ]
  },
  {
   "cell_type": "markdown",
   "metadata": {},
   "source": [
    "## 0.1 Data Loading"
   ]
  },
  {
   "cell_type": "markdown",
   "metadata": {},
   "source": [
    "### 0.1.1 Caminhos de diretórios e arquivos"
   ]
  },
  {
   "cell_type": "code",
   "execution_count": 3,
   "metadata": {},
   "outputs": [],
   "source": [
    "#os.path.abspath('..')"
   ]
  },
  {
   "cell_type": "code",
   "execution_count": 4,
   "metadata": {},
   "outputs": [],
   "source": [
    "BASE_DIR = pathlib.Path().resolve().parent.absolute()\n",
    "DATA_DIR = os.path.join(BASE_DIR, 'data')\n",
    "DATA_RAW_DIR = os.path.join(DATA_DIR, 'raw')\n",
    "DATA_INTERIM_DIR = os.path.join(DATA_DIR, 'interim')\n",
    "DATA_RAW_FILE = os.path.join(DATA_RAW_DIR, 'review.csv')"
   ]
  },
  {
   "cell_type": "markdown",
   "metadata": {},
   "source": [
    "### 0.1.2 Load"
   ]
  },
  {
   "cell_type": "code",
   "execution_count": 5,
   "metadata": {},
   "outputs": [
    {
     "name": "stderr",
     "output_type": "stream",
     "text": [
      "C:\\Users\\kayss\\AppData\\Local\\Temp\\ipykernel_7156\\3283744367.py:2: DtypeWarning: Columns (2) have mixed types. Specify dtype option on import or set low_memory=False.\n",
      "  df = pd.read_csv(path)\n"
     ]
    }
   ],
   "source": [
    "path = rf'{DATA_RAW_FILE}'\n",
    "df = pd.read_csv(path)"
   ]
  },
  {
   "cell_type": "markdown",
   "metadata": {},
   "source": [
    "# 1.0 Data Description"
   ]
  },
  {
   "cell_type": "code",
   "execution_count": 7,
   "metadata": {},
   "outputs": [
    {
     "name": "stdout",
     "output_type": "stream",
     "text": [
      "<class 'pandas.core.frame.DataFrame'>\n",
      "RangeIndex: 132373 entries, 0 to 132372\n",
      "Data columns (total 14 columns):\n",
      " #   Column                 Non-Null Count   Dtype  \n",
      "---  ------                 --------------   -----  \n",
      " 0   submission_date        132373 non-null  object \n",
      " 1   reviewer_id            132373 non-null  object \n",
      " 2   product_id             132373 non-null  object \n",
      " 3   product_name           132289 non-null  object \n",
      " 4   product_brand          40982 non-null   object \n",
      " 5   site_category_lv1      132367 non-null  object \n",
      " 6   site_category_lv2      128360 non-null  object \n",
      " 7   review_title           132071 non-null  object \n",
      " 8   overall_rating         132373 non-null  int64  \n",
      " 9   recommend_to_a_friend  132355 non-null  object \n",
      " 10  review_text            129098 non-null  object \n",
      " 11  reviewer_birth_year    126389 non-null  float64\n",
      " 12  reviewer_gender        128237 non-null  object \n",
      " 13  reviewer_state         128382 non-null  object \n",
      "dtypes: float64(1), int64(1), object(12)\n",
      "memory usage: 14.1+ MB\n"
     ]
    }
   ],
   "source": [
    "df.info()"
   ]
  },
  {
   "cell_type": "code",
   "execution_count": 8,
   "metadata": {},
   "outputs": [
    {
     "data": {
      "text/html": [
       "<div>\n",
       "<style scoped>\n",
       "    .dataframe tbody tr th:only-of-type {\n",
       "        vertical-align: middle;\n",
       "    }\n",
       "\n",
       "    .dataframe tbody tr th {\n",
       "        vertical-align: top;\n",
       "    }\n",
       "\n",
       "    .dataframe thead th {\n",
       "        text-align: right;\n",
       "    }\n",
       "</style>\n",
       "<table border=\"1\" class=\"dataframe\">\n",
       "  <thead>\n",
       "    <tr style=\"text-align: right;\">\n",
       "      <th></th>\n",
       "      <th>submission_date</th>\n",
       "      <th>reviewer_id</th>\n",
       "      <th>product_id</th>\n",
       "      <th>product_name</th>\n",
       "      <th>product_brand</th>\n",
       "      <th>site_category_lv1</th>\n",
       "      <th>site_category_lv2</th>\n",
       "      <th>review_title</th>\n",
       "      <th>overall_rating</th>\n",
       "      <th>recommend_to_a_friend</th>\n",
       "      <th>review_text</th>\n",
       "      <th>reviewer_birth_year</th>\n",
       "      <th>reviewer_gender</th>\n",
       "      <th>reviewer_state</th>\n",
       "    </tr>\n",
       "  </thead>\n",
       "  <tbody>\n",
       "    <tr>\n",
       "      <th>132368</th>\n",
       "      <td>2018-05-31 23:30:50</td>\n",
       "      <td>15f20e95ff44163f3175aaf67a5ae4a94d5030b409e521...</td>\n",
       "      <td>17962233</td>\n",
       "      <td>Carregador De Pilha Sony + 4 Pilhas Aa 2500mah</td>\n",
       "      <td>NaN</td>\n",
       "      <td>Câmeras e Filmadoras</td>\n",
       "      <td>Acessórios para Câmeras e Filmadoras</td>\n",
       "      <td>Ótimo produto!</td>\n",
       "      <td>5</td>\n",
       "      <td>Yes</td>\n",
       "      <td>Vale muito, estou usando no controle do Xbox e...</td>\n",
       "      <td>1988.0</td>\n",
       "      <td>M</td>\n",
       "      <td>RS</td>\n",
       "    </tr>\n",
       "    <tr>\n",
       "      <th>132369</th>\n",
       "      <td>2018-05-31 23:42:25</td>\n",
       "      <td>def7cf9028b0673ab8bca3b1d06e085461fafb88cd48d9...</td>\n",
       "      <td>132631701</td>\n",
       "      <td>Mop Giratório Fit + Refil Extra - At Home</td>\n",
       "      <td>NaN</td>\n",
       "      <td>Utilidades Domésticas</td>\n",
       "      <td>Material de Limpeza</td>\n",
       "      <td>Sensacional</td>\n",
       "      <td>5</td>\n",
       "      <td>Yes</td>\n",
       "      <td>Prático e barato, super indico o produto para ...</td>\n",
       "      <td>1979.0</td>\n",
       "      <td>F</td>\n",
       "      <td>SP</td>\n",
       "    </tr>\n",
       "    <tr>\n",
       "      <th>132370</th>\n",
       "      <td>2018-05-31 23:44:16</td>\n",
       "      <td>7bcbf542f5d7dd9a9a192a6805adba7a7a4c1ce3bf00df...</td>\n",
       "      <td>16095859</td>\n",
       "      <td>Fita Led 5m Rgb 3528 Siliconada Com 300 Leds C...</td>\n",
       "      <td>NaN</td>\n",
       "      <td>Automotivo</td>\n",
       "      <td>Iluminação</td>\n",
       "      <td>Ótimo produto</td>\n",
       "      <td>4</td>\n",
       "      <td>Yes</td>\n",
       "      <td>Chegou antes do prazo previsto e corresponde a...</td>\n",
       "      <td>1979.0</td>\n",
       "      <td>F</td>\n",
       "      <td>PR</td>\n",
       "    </tr>\n",
       "    <tr>\n",
       "      <th>132371</th>\n",
       "      <td>2018-05-31 23:46:48</td>\n",
       "      <td>e6fb0b19277d01c2a300c7837a105f3c369377e92f9c19...</td>\n",
       "      <td>6774907</td>\n",
       "      <td>Etiquetas Jurídicas Vade Mecum - Marca Fácil</td>\n",
       "      <td>marca facil</td>\n",
       "      <td>Papelaria</td>\n",
       "      <td>Material de Escritório</td>\n",
       "      <td>O produto não é bom.</td>\n",
       "      <td>1</td>\n",
       "      <td>No</td>\n",
       "      <td>Material fraco, poderia ser melhor. Ficou deve...</td>\n",
       "      <td>1991.0</td>\n",
       "      <td>M</td>\n",
       "      <td>RJ</td>\n",
       "    </tr>\n",
       "    <tr>\n",
       "      <th>132372</th>\n",
       "      <td>2018-05-31 23:50:33</td>\n",
       "      <td>ea9467aa73271fb4f68c04f4dd4f4eef304d6ee85441fb...</td>\n",
       "      <td>114081902</td>\n",
       "      <td>Painel de Fotos Bee Colection Rue Bac (74x94x3...</td>\n",
       "      <td>kapos</td>\n",
       "      <td>Decoração</td>\n",
       "      <td>Painel de Fotos</td>\n",
       "      <td>Produto não entregue</td>\n",
       "      <td>1</td>\n",
       "      <td>No</td>\n",
       "      <td>Comprei esse produto, quando chegou estava com...</td>\n",
       "      <td>1982.0</td>\n",
       "      <td>F</td>\n",
       "      <td>ES</td>\n",
       "    </tr>\n",
       "  </tbody>\n",
       "</table>\n",
       "</div>"
      ],
      "text/plain": [
       "            submission_date  \\\n",
       "132368  2018-05-31 23:30:50   \n",
       "132369  2018-05-31 23:42:25   \n",
       "132370  2018-05-31 23:44:16   \n",
       "132371  2018-05-31 23:46:48   \n",
       "132372  2018-05-31 23:50:33   \n",
       "\n",
       "                                              reviewer_id product_id  \\\n",
       "132368  15f20e95ff44163f3175aaf67a5ae4a94d5030b409e521...   17962233   \n",
       "132369  def7cf9028b0673ab8bca3b1d06e085461fafb88cd48d9...  132631701   \n",
       "132370  7bcbf542f5d7dd9a9a192a6805adba7a7a4c1ce3bf00df...   16095859   \n",
       "132371  e6fb0b19277d01c2a300c7837a105f3c369377e92f9c19...    6774907   \n",
       "132372  ea9467aa73271fb4f68c04f4dd4f4eef304d6ee85441fb...  114081902   \n",
       "\n",
       "                                             product_name product_brand  \\\n",
       "132368     Carregador De Pilha Sony + 4 Pilhas Aa 2500mah           NaN   \n",
       "132369          Mop Giratório Fit + Refil Extra - At Home           NaN   \n",
       "132370  Fita Led 5m Rgb 3528 Siliconada Com 300 Leds C...           NaN   \n",
       "132371       Etiquetas Jurídicas Vade Mecum - Marca Fácil   marca facil   \n",
       "132372  Painel de Fotos Bee Colection Rue Bac (74x94x3...         kapos   \n",
       "\n",
       "            site_category_lv1                     site_category_lv2  \\\n",
       "132368   Câmeras e Filmadoras  Acessórios para Câmeras e Filmadoras   \n",
       "132369  Utilidades Domésticas                   Material de Limpeza   \n",
       "132370             Automotivo                            Iluminação   \n",
       "132371              Papelaria                Material de Escritório   \n",
       "132372              Decoração                       Painel de Fotos   \n",
       "\n",
       "                review_title  overall_rating recommend_to_a_friend  \\\n",
       "132368        Ótimo produto!               5                   Yes   \n",
       "132369           Sensacional               5                   Yes   \n",
       "132370         Ótimo produto               4                   Yes   \n",
       "132371  O produto não é bom.               1                    No   \n",
       "132372  Produto não entregue               1                    No   \n",
       "\n",
       "                                              review_text  \\\n",
       "132368  Vale muito, estou usando no controle do Xbox e...   \n",
       "132369  Prático e barato, super indico o produto para ...   \n",
       "132370  Chegou antes do prazo previsto e corresponde a...   \n",
       "132371  Material fraco, poderia ser melhor. Ficou deve...   \n",
       "132372  Comprei esse produto, quando chegou estava com...   \n",
       "\n",
       "        reviewer_birth_year reviewer_gender reviewer_state  \n",
       "132368               1988.0               M             RS  \n",
       "132369               1979.0               F             SP  \n",
       "132370               1979.0               F             PR  \n",
       "132371               1991.0               M             RJ  \n",
       "132372               1982.0               F             ES  "
      ]
     },
     "execution_count": 8,
     "metadata": {},
     "output_type": "execute_result"
    }
   ],
   "source": [
    "df.tail()"
   ]
  },
  {
   "cell_type": "markdown",
   "metadata": {},
   "source": [
    "**OBSERVAÇÕES:** \n",
    "- 14 Colunas: 2 Datas, 11 categóricas e 1 Númerica.\n",
    "- Há dados faltantes em algumas colunas, que dentre elas está o Review_text"
   ]
  },
  {
   "cell_type": "markdown",
   "metadata": {},
   "source": [
    "# 2.0 Data Preparation"
   ]
  },
  {
   "cell_type": "markdown",
   "metadata": {},
   "source": [
    "## 2.1 Data Filtering"
   ]
  },
  {
   "cell_type": "code",
   "execution_count": 10,
   "metadata": {},
   "outputs": [],
   "source": [
    "df_filtrado = df.loc[~df['review_text'].isnull()] # Filtrando linhas que tem valor null no atributo de comentários.\n",
    "df_filtrado = df_filtrado.loc[~df_filtrado['recommend_to_a_friend'].isnull()] # Filtrando linhas que tem valor null no atributo de recomendação."
   ]
  },
  {
   "cell_type": "code",
   "execution_count": 11,
   "metadata": {},
   "outputs": [
    {
     "name": "stdout",
     "output_type": "stream",
     "text": [
      "<class 'pandas.core.frame.DataFrame'>\n",
      "Int64Index: 129080 entries, 0 to 132372\n",
      "Data columns (total 2 columns):\n",
      " #   Column                 Non-Null Count   Dtype \n",
      "---  ------                 --------------   ----- \n",
      " 0   recommend_to_a_friend  129080 non-null  object\n",
      " 1   review_text            129080 non-null  object\n",
      "dtypes: object(2)\n",
      "memory usage: 3.0+ MB\n"
     ]
    }
   ],
   "source": [
    "# Confirmando se há o mesmo número de linhas para a recomendação e revisão de texto\n",
    "df_filtrado[['recommend_to_a_friend','review_text']].info()"
   ]
  },
  {
   "cell_type": "code",
   "execution_count": 12,
   "metadata": {},
   "outputs": [],
   "source": [
    "df_filtrado_2 = df_filtrado[['recommend_to_a_friend','review_text']]"
   ]
  },
  {
   "cell_type": "markdown",
   "metadata": {},
   "source": [
    "## 2.2 Aplicando funções de tratamento"
   ]
  },
  {
   "cell_type": "code",
   "execution_count": 14,
   "metadata": {},
   "outputs": [],
   "source": [
    "# Remove os Emojis\n",
    "def _remove_emoji(string):\n",
    "    emoji_pattern = re.compile(\"[\"\n",
    "                u\"\\U0001F600-\\U0001F64F\"  # emoticons\n",
    "                u\"\\U0001F300-\\U0001F5FF\"  # symbols & pictographs\n",
    "                u\"\\U0001F680-\\U0001F6FF\"  # transport & map symbols\n",
    "                u\"\\U0001F1E0-\\U0001F1FF\"  # flags (iOS)\n",
    "                u\"\\U00002702-\\U000027B0\"\n",
    "                u\"\\U000024C2-\\U0001F251\"\n",
    "                u\"\\U0001f926-\\U0001f937\"\n",
    "                u'\\U00010000-\\U0010ffff'\n",
    "                u\"\\u200d\"\n",
    "                u\"\\u2640-\\u2642\"\n",
    "                u\"\\u2600-\\u2B55\"\n",
    "                u\"\\u23cf\"\n",
    "                u\"\\u23e9\"\n",
    "                u\"\\u231a\"\n",
    "                u\"\\u3030\"\n",
    "                u\"\\ufe0f\"\n",
    "                \"]+\", flags=re.UNICODE)\n",
    "    return emoji_pattern.sub(r'', string)"
   ]
  },
  {
   "cell_type": "code",
   "execution_count": 15,
   "metadata": {},
   "outputs": [],
   "source": [
    "def _sub_char_especial_normal(text):\n",
    "    # Substitui caracteres especiais por letras com acentos\n",
    "\n",
    "    # Letra minúsculas\n",
    "    text = re.sub(r\"&aacute;\", \"á\", text)\n",
    "    text = re.sub(r\"&atilde;\", \"ã\", text)\n",
    "    text = re.sub(r\"&agrave;\", \"à\", text)\n",
    "    text = re.sub(r\"&acirc;\", \"â\", text)\n",
    "    text = re.sub(r\"&aring;\", \"a\", text)\n",
    "    text = re.sub(r\"&auml;\", \"a\", text)\n",
    "    text = re.sub(r\"&aelig;\", \"ae\", text)\n",
    "    text = re.sub(r\"&eacute;\", \"é\", text)\n",
    "    text = re.sub(r\"&ecirc;\", \"ê\", text)\n",
    "    text = re.sub(r\"&egrave;\", \"è\", text)\n",
    "    text = re.sub(r\"&euml;\", \"e\", text)\n",
    "    text = re.sub(r\"&iacute;\", \"í\", text)\n",
    "    text = re.sub(r\"&icirc;\", \"î\", text)\n",
    "    text = re.sub(r\"&iuml;\", \"i\", text)\n",
    "    text = re.sub(r\"&oacute;\", \"ó\", text)\n",
    "    text = re.sub(r\"&otilde;\", \"õ\", text)\n",
    "    text = re.sub(r\"&ocirc;\", \"ô\", text)\n",
    "    text = re.sub(r\"&ograve;\", \"ò\", text)\n",
    "    text = re.sub(r\"&uacute;\", \"ú\", text)\n",
    "    text = re.sub(r\"&ucirc;\", \"û\", text)\n",
    "    text = re.sub(r\"&ugrave;\", \"ù\", text)\n",
    "    text = re.sub(r\"&uuml;\", \"u\", text)\n",
    "    text = re.sub(r\"&ccedil;\", \"ç\", text)\n",
    "    text = re.sub(r\"&ntilde;\", \"não\", text)\n",
    "\n",
    "    # Letras maiúsculas\n",
    "    text = re.sub(r\"&Aacute;\", \"Á\", text)\n",
    "    text = re.sub(r\"&Atilde;\",\"Ã\", text) # Letra maiúscula\n",
    "    text = re.sub(r\"&Agrave;\", \"À\", text)\n",
    "    text = re.sub(r\"&Acirc;\", \"Â\", text)\n",
    "    text = re.sub(r\"&Aring;\", \"A\", text)\n",
    "    text = re.sub(r\"&Auml;\", \"A\", text)\n",
    "    text = re.sub(r\"&Aelig;\", \"AE\", text)\n",
    "    text = re.sub(r\"&Eacute;\", \"É\", text)\n",
    "    text = re.sub(r\"&Ecirc;\", \"Ê\", text)\n",
    "    text = re.sub(r\"&Egrave;\", \"È\", text)\n",
    "    text = re.sub(r\"&Euml;\", \"E\", text)\n",
    "    text = re.sub(r\"&Iacute;\", \"Í\", text)\n",
    "    text = re.sub(r\"&Icirc;\", \"Î\", text)\n",
    "    text = re.sub(r\"&Iuml;\", \"I\", text)\n",
    "    text = re.sub(r\"&Oacute;\", \"Ó\", text)\n",
    "    text = re.sub(r\"&Otilde;\", \"Õ\", text)\n",
    "    text = re.sub(r\"&Ocirc;\", \"Ô\", text)\n",
    "    text = re.sub(r\"&Ograve;\", \"Ò\", text)\n",
    "    text = re.sub(r\"&Uacute;\", \"Ú\", text)\n",
    "    text = re.sub(r\"&Ucirc;\", \"Û\", text)\n",
    "    text = re.sub(r\"&Ugrave;\", \"Ù\", text)\n",
    "    text = re.sub(r\"&Uuml;\", \"U\", text)\n",
    "    text = re.sub(r\"&Ccedil;\", \"Ç\", text)\n",
    "    text = re.sub(r\"&Ntilde;\", \"Não\", text)\n",
    "    text = re.sub(r\"&Yacute;\", \"Y\", text)\n",
    "\n",
    "    #any special char to be replaced\n",
    "    text = re.sub(r\"&lt;\", \"<\", text)\n",
    "    text = re.sub(r\"&gt;\", \">\", text)\n",
    "    text = re.sub(r\"&amp;\", \"&\", text)\n",
    "    text = re.sub(r\"&reg;\", \"&\", text) \n",
    "    text = re.sub(r\"&copy;\", \"&\", text) \n",
    "    text = re.sub(r\"&quot;\",\"'\", text)\n",
    "    text = re.sub(r\"&lsquo;\",\"'\", text)\n",
    "    text = re.sub(r\"&rsquo;\",\"'\", text)\n",
    "    return text"
   ]
  },
  {
   "cell_type": "code",
   "execution_count": 22,
   "metadata": {},
   "outputs": [],
   "source": [
    "# Termos em code HTML\n",
    "def _remove_char_html(text):\n",
    "    text = re.sub(r\"&ndash;\",\"\", text)\n",
    "    text = re.sub(r\"&ordf;\",\"\", text)\n",
    "    text = re.sub(r\"&nbsp;\",\"\", text)\n",
    "    text = re.sub(r\"&cent;\",\"\", text)\n",
    "    text = re.sub(r\"&pound;\",\"\", text)\n",
    "    text = re.sub(r\"&sect;\",\"\", text)\n",
    "    text = re.sub(r\"&copy;\",\"\", text)\n",
    "    text = re.sub(r\"&laquo;\",\"\", text)\n",
    "    text = re.sub(r\"&raquo;\",\"\", text)\n",
    "    text = re.sub(r\"&reg;\",\"\", text)\n",
    "    text = re.sub(r\"&deg;\",\"\", text)\n",
    "    text = re.sub(r\"&plusmn;\",\"\", text)\n",
    "    text = re.sub(r\"&para;\",\"\", text)\n",
    "    text = re.sub(r\"&middot;\",\"\", text)\n",
    "    text = re.sub(r\"&frac12;\",\"\", text)\n",
    "    text = re.sub(r\"&mdash;\",\"\", text)\n",
    "    text = re.sub(r\"&lsquo;\",\"\", text)\n",
    "    text = re.sub(r\"&rsquo;\",\"\", text)\n",
    "    text = re.sub(r\"&sbquo;\",\"\", text)\n",
    "    text = re.sub(r\"&ldquo;\",\"\", text)\n",
    "    text = re.sub(r\"&rdquo;\",\"\", text)\n",
    "    text = re.sub(r\"&bdquo;\",\"\", text)\n",
    "    text = re.sub(r\"&dagger;\",\"\", text)\n",
    "    text = re.sub(r\"&Dagger;\",\"\", text)\n",
    "    text = re.sub(r\"&bull;\",\"\", text)\n",
    "    text = re.sub(r\"&hellip;\",\"\", text)\n",
    "    text = re.sub(r\"&prime;\",\"\", text)\n",
    "    text = re.sub(r\"&Prime;\",\"\", text)\n",
    "    text = re.sub(r\"&euro;\",\"\", text)\n",
    "    text = re.sub(r\"&trade;\",\"\", text)\n",
    "    text = re.sub(r\"&asymp;\",\"\", text)\n",
    "    text = re.sub(r\"&ne;\",\"\", text)\n",
    "    text = re.sub(r\"&le;\",\"\", text)\n",
    "    text = re.sub(r\"&ge;\",\"\", text)\n",
    "    text = re.sub(r\"&lt;\",\"\", text)\n",
    "    text = re.sub(r\"&gt;\",\"\", text)\n",
    "    return text"
   ]
  },
  {
   "cell_type": "code",
   "execution_count": 23,
   "metadata": {},
   "outputs": [],
   "source": [
    "# Remove as tags de HTML\n",
    "def _remove_tags_html(text):\n",
    "    text = re.sub('<[^<]+?>', '', str(text))\n",
    "    return text\n"
   ]
  },
  {
   "cell_type": "code",
   "execution_count": 24,
   "metadata": {},
   "outputs": [],
   "source": [
    "# Remove web sites:\n",
    "def _remove_web(text):\n",
    "    text = re.sub(r\"(?i)\\b((?:https?://|www\\d{0,3}[.]|[a-z0-9.\\-]+[.][a-z]{2,4}/)(?:[^\\s()<>]|\\(([^\\s()<>]|(\\([^\\s()<>]+\\)))*\\))+(?:\\(([^\\s()<>]|(\\([^\\s()<>]+\\)))*\\)|[^\\s`!()\\[\\]{};:'\\\".,<>?]))\",\n",
    "                \"xxxWEBxxx\",\n",
    "                str(text)\n",
    "            )\n",
    "    text = ' '.join([w for w in text.split() if '.com' not in w])\n",
    "    return text"
   ]
  },
  {
   "cell_type": "code",
   "execution_count": 25,
   "metadata": {},
   "outputs": [],
   "source": [
    "# Remove números\n",
    "def _remove_numbers(text):\n",
    "    text = re.sub(r'[0-9]+', '', text)\n",
    "    return text\n",
    "\n",
    "def _remove_pontuação(text):\n",
    "    text = re.sub(r'[^\\w\\s]','',text)\n",
    "    return text"
   ]
  },
  {
   "cell_type": "code",
   "execution_count": 26,
   "metadata": {},
   "outputs": [],
   "source": [
    "def transform_text(text):\n",
    "    text = _remove_tags_html(text)\n",
    "    text = _remove_web(text)\n",
    "    text = _remove_emoji(text)\n",
    "    text = _sub_char_especial_normal(text)\n",
    "    text = _remove_char_html(text)\n",
    "    text = _remove_numbers(text)\n",
    "    text = _remove_pontuação(text)\n",
    "    return text"
   ]
  },
  {
   "cell_type": "code",
   "execution_count": 27,
   "metadata": {},
   "outputs": [
    {
     "data": {
      "text/plain": [
       "\"['Produto de qualidade, de fácil reposição do fio de nylon, durável. Recomendo!']\""
      ]
     },
     "execution_count": 27,
     "metadata": {},
     "output_type": "execute_result"
    }
   ],
   "source": [
    "teste = str(df_filtrado_2['review_text'].sample().tolist())\n",
    "teste"
   ]
  },
  {
   "cell_type": "code",
   "execution_count": 28,
   "metadata": {},
   "outputs": [
    {
     "data": {
      "text/plain": [
       "'Produto de qualidade de fácil reposição do fio de nylon durável Recomendo'"
      ]
     },
     "execution_count": 28,
     "metadata": {},
     "output_type": "execute_result"
    }
   ],
   "source": [
    "transform_text(teste)"
   ]
  },
  {
   "cell_type": "code",
   "execution_count": 29,
   "metadata": {},
   "outputs": [
    {
     "name": "stderr",
     "output_type": "stream",
     "text": [
      "C:\\Users\\kayss\\AppData\\Local\\Temp\\ipykernel_7156\\1040504740.py:1: SettingWithCopyWarning: \n",
      "A value is trying to be set on a copy of a slice from a DataFrame.\n",
      "Try using .loc[row_indexer,col_indexer] = value instead\n",
      "\n",
      "See the caveats in the documentation: https://pandas.pydata.org/pandas-docs/stable/user_guide/indexing.html#returning-a-view-versus-a-copy\n",
      "  df_filtrado_2['review_text'] = df_filtrado_2['review_text'].apply(str)\n",
      "C:\\Users\\kayss\\AppData\\Local\\Temp\\ipykernel_7156\\1040504740.py:2: SettingWithCopyWarning: \n",
      "A value is trying to be set on a copy of a slice from a DataFrame.\n",
      "Try using .loc[row_indexer,col_indexer] = value instead\n",
      "\n",
      "See the caveats in the documentation: https://pandas.pydata.org/pandas-docs/stable/user_guide/indexing.html#returning-a-view-versus-a-copy\n",
      "  df_filtrado_2['review_text'] = df_filtrado_2['review_text'].apply(transform_text)\n"
     ]
    }
   ],
   "source": [
    "df_filtrado_2['review_text'] = df_filtrado_2['review_text'].apply(str)\n",
    "df_filtrado_2['review_text'] = df_filtrado_2['review_text'].apply(transform_text)"
   ]
  },
  {
   "cell_type": "markdown",
   "metadata": {},
   "source": [
    "## 2.3 Aplicando dicionário na label"
   ]
  },
  {
   "cell_type": "code",
   "execution_count": 30,
   "metadata": {},
   "outputs": [
    {
     "data": {
      "text/plain": [
       "Yes    95066\n",
       "No     34014\n",
       "Name: recommend_to_a_friend, dtype: int64"
      ]
     },
     "execution_count": 30,
     "metadata": {},
     "output_type": "execute_result"
    }
   ],
   "source": [
    "df_filtrado_2['recommend_to_a_friend'].value_counts()"
   ]
  },
  {
   "cell_type": "code",
   "execution_count": 31,
   "metadata": {},
   "outputs": [
    {
     "name": "stderr",
     "output_type": "stream",
     "text": [
      "C:\\Users\\kayss\\AppData\\Local\\Temp\\ipykernel_7156\\45278559.py:6: SettingWithCopyWarning: \n",
      "A value is trying to be set on a copy of a slice from a DataFrame.\n",
      "Try using .loc[row_indexer,col_indexer] = value instead\n",
      "\n",
      "See the caveats in the documentation: https://pandas.pydata.org/pandas-docs/stable/user_guide/indexing.html#returning-a-view-versus-a-copy\n",
      "  df_filtrado_2['recommend_to_a_friend_num'] = df_filtrado_2['recommend_to_a_friend'].map(dicionario)\n"
     ]
    }
   ],
   "source": [
    "dicionario = {\n",
    "    'Yes': 1,\n",
    "    'No' : 0\n",
    "}\n",
    "\n",
    "df_filtrado_2['recommend_to_a_friend_num'] = df_filtrado_2['recommend_to_a_friend'].map(dicionario)"
   ]
  },
  {
   "cell_type": "code",
   "execution_count": 32,
   "metadata": {},
   "outputs": [
    {
     "name": "stdout",
     "output_type": "stream",
     "text": [
      "<class 'pandas.core.frame.DataFrame'>\n",
      "Int64Index: 129080 entries, 0 to 132372\n",
      "Data columns (total 3 columns):\n",
      " #   Column                     Non-Null Count   Dtype \n",
      "---  ------                     --------------   ----- \n",
      " 0   recommend_to_a_friend      129080 non-null  object\n",
      " 1   review_text                129080 non-null  object\n",
      " 2   recommend_to_a_friend_num  129080 non-null  int64 \n",
      "dtypes: int64(1), object(2)\n",
      "memory usage: 3.9+ MB\n"
     ]
    }
   ],
   "source": [
    "df_filtrado_2.info()"
   ]
  },
  {
   "cell_type": "markdown",
   "metadata": {},
   "source": [
    "## 2.4 Train and test"
   ]
  },
  {
   "cell_type": "code",
   "execution_count": 33,
   "metadata": {},
   "outputs": [
    {
     "name": "stdout",
     "output_type": "stream",
     "text": [
      "1    0.73604\n",
      "0    0.26396\n",
      "Name: recommend_to_a_friend_num, dtype: float64\n",
      "1    0.738033\n",
      "0    0.261967\n",
      "Name: recommend_to_a_friend_num, dtype: float64\n"
     ]
    }
   ],
   "source": [
    "df_random = df_filtrado_2.sample(129080,random_state=42)\n",
    "df_train = df_random[:100000]\n",
    "df_test = df_random[100000:]\n",
    "print(df_train['recommend_to_a_friend_num'].value_counts(normalize=True))\n",
    "print(df_test['recommend_to_a_friend_num'].value_counts(normalize=True))"
   ]
  },
  {
   "cell_type": "code",
   "execution_count": 34,
   "metadata": {},
   "outputs": [],
   "source": [
    "path_save_test = os.path.join(DATA_INTERIM_DIR, 'validation_v1.csv')\n",
    "df_test.to_csv(path_save_test)"
   ]
  },
  {
   "cell_type": "code",
   "execution_count": 35,
   "metadata": {},
   "outputs": [],
   "source": [
    "path_save_train = os.path.join(DATA_INTERIM_DIR, 'train_v1.csv')\n",
    "df_train.to_csv(path_save_train)"
   ]
  }
 ],
 "metadata": {
  "interpreter": {
   "hash": "ab318d98fe8971464deaa9d0bce770c3609a8f7d41d6063956405d85894746aa"
  },
  "kernelspec": {
   "display_name": "Python 3.9.8 ('text_classifier': venv)",
   "language": "python",
   "name": "python3"
  },
  "language_info": {
   "codemirror_mode": {
    "name": "ipython",
    "version": 3
   },
   "file_extension": ".py",
   "mimetype": "text/x-python",
   "name": "python",
   "nbconvert_exporter": "python",
   "pygments_lexer": "ipython3",
   "version": "3.9.8"
  },
  "orig_nbformat": 4
 },
 "nbformat": 4,
 "nbformat_minor": 2
}
