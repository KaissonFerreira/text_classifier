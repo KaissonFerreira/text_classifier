{
 "cells": [
  {
   "cell_type": "markdown",
   "metadata": {},
   "source": [
    "# 0.0 - Imports"
   ]
  },
  {
   "cell_type": "code",
   "execution_count": 86,
   "metadata": {},
   "outputs": [],
   "source": [
    "import re\n",
    "import io\n",
    "import tensorflow        as tf\n",
    "import numpy             as np\n",
    "import pandas            as pd\n",
    "import seaborn           as sns\n",
    "import matplotlib.pyplot as plt\n",
    "\n",
    "\n",
    "from tensorflow.keras.preprocessing.text     import Tokenizer\n",
    "from tensorflow.keras.preprocessing.sequence import pad_sequences\n",
    "\n"
   ]
  },
  {
   "cell_type": "markdown",
   "metadata": {},
   "source": [
    "## 0.1 loading Data"
   ]
  },
  {
   "cell_type": "code",
   "execution_count": 2,
   "metadata": {},
   "outputs": [],
   "source": [
    "path = r'D:\\projetos\\Projetos_NLP\\text_classifier\\data\\interim\\20220203_notebook0.0_data_filter.csv'\n",
    "df = pd.read_csv(path)"
   ]
  },
  {
   "cell_type": "markdown",
   "metadata": {},
   "source": [
    "# 1.0 Preprocessing"
   ]
  },
  {
   "cell_type": "code",
   "execution_count": 33,
   "metadata": {},
   "outputs": [],
   "source": [
    "df['review_text'] = df['review_text'].apply(str)"
   ]
  },
  {
   "cell_type": "markdown",
   "metadata": {},
   "source": [
    "## 1.1 Configuration to model and tokenization"
   ]
  },
  {
   "cell_type": "code",
   "execution_count": 65,
   "metadata": {},
   "outputs": [],
   "source": [
    "vocab_size = 20000 # Quantidade de palavras\n",
    "embedding_dim = 16\n",
    "max_length = 1000 # Tamanho de cada frase\n",
    "trunc_type = 'post'\n",
    "padding_type = 'post'\n",
    "oov_tok = 'XXXX'\n",
    "training_size = 90000"
   ]
  },
  {
   "cell_type": "markdown",
   "metadata": {},
   "source": [
    "## 1.2 Train and Test"
   ]
  },
  {
   "cell_type": "code",
   "execution_count": 66,
   "metadata": {},
   "outputs": [
    {
     "data": {
      "text/plain": [
       "129080"
      ]
     },
     "execution_count": 66,
     "metadata": {},
     "output_type": "execute_result"
    }
   ],
   "source": [
    "len(df)"
   ]
  },
  {
   "cell_type": "code",
   "execution_count": 67,
   "metadata": {},
   "outputs": [
    {
     "data": {
      "text/plain": [
       "Index(['Unnamed: 0', 'recommend_to_a_friend', 'review_text',\n",
       "       'recommend_to_a_friend_num'],\n",
       "      dtype='object')"
      ]
     },
     "execution_count": 67,
     "metadata": {},
     "output_type": "execute_result"
    }
   ],
   "source": [
    "df.columns"
   ]
  },
  {
   "cell_type": "code",
   "execution_count": 68,
   "metadata": {},
   "outputs": [],
   "source": [
    "sentences = df['review_text']\n",
    "labels = df['recommend_to_a_friend_num']"
   ]
  },
  {
   "cell_type": "code",
   "execution_count": 69,
   "metadata": {},
   "outputs": [],
   "source": [
    "training_sentences = sentences[0:training_size]\n",
    "training_labels = labels[0:training_size]\n",
    "testing_sentences = sentences[training_size:]\n",
    "testing_labels = labels[training_size:]"
   ]
  },
  {
   "cell_type": "code",
   "execution_count": 70,
   "metadata": {},
   "outputs": [],
   "source": [
    "testing_labels_final = np.array(testing_labels)\n",
    "training_labels_final = np.array(training_labels)"
   ]
  },
  {
   "cell_type": "markdown",
   "metadata": {},
   "source": [
    "### Distribuition of the data train and test"
   ]
  },
  {
   "cell_type": "code",
   "execution_count": 71,
   "metadata": {},
   "outputs": [
    {
     "data": {
      "text/plain": [
       "1    0.744189\n",
       "0    0.255811\n",
       "Name: recommend_to_a_friend_num, dtype: float64"
      ]
     },
     "execution_count": 71,
     "metadata": {},
     "output_type": "execute_result"
    }
   ],
   "source": [
    "training_labels.value_counts(normalize=True)"
   ]
  },
  {
   "cell_type": "code",
   "execution_count": 72,
   "metadata": {},
   "outputs": [
    {
     "data": {
      "text/plain": [
       "1    0.718756\n",
       "0    0.281244\n",
       "Name: recommend_to_a_friend_num, dtype: float64"
      ]
     },
     "execution_count": 72,
     "metadata": {},
     "output_type": "execute_result"
    }
   ],
   "source": [
    "testing_labels.value_counts(normalize=True)"
   ]
  },
  {
   "cell_type": "markdown",
   "metadata": {},
   "source": [
    "1- Sim (Recomendaria o produto para um amigo)\n",
    "\n",
    "2 - Não (Não recomendaria um produto para um amigo)"
   ]
  },
  {
   "cell_type": "markdown",
   "metadata": {},
   "source": [
    "## 1.3 Tokenização"
   ]
  },
  {
   "cell_type": "code",
   "execution_count": 73,
   "metadata": {},
   "outputs": [],
   "source": [
    "tokenizer = Tokenizer(  num_words = vocab_size,\n",
    "                        oov_token=oov_tok)\n",
    "tokenizer.fit_on_texts(training_sentences) # Tokenizando as palavras do treinamento\n",
    "\n",
    "word_index = tokenizer.word_index\n",
    "\n",
    "# Criando a sequência de palavras para o treinamento, Substituindo as palavras pelos seus tokens.\n",
    "training_sequences = tokenizer.texts_to_sequences(training_sentences) \n",
    "training_padded = pad_sequences(training_sequences,\n",
    "                                maxlen= max_length,\n",
    "                                padding=padding_type,\n",
    "                                truncating= trunc_type)\n",
    "\n",
    "# Repetindo o processo para os dados de teste.\n",
    "testing_sequences = tokenizer.texts_to_sequences(testing_sentences) \n",
    "testing_padded = pad_sequences(testing_sequences,\n",
    "                                maxlen= max_length,\n",
    "                                padding=padding_type,\n",
    "                                truncating= trunc_type)\n"
   ]
  },
  {
   "cell_type": "markdown",
   "metadata": {},
   "source": [
    "# 2.0 Model"
   ]
  },
  {
   "cell_type": "markdown",
   "metadata": {},
   "source": [
    "## 2.1 Build Model - Model_1"
   ]
  },
  {
   "cell_type": "code",
   "execution_count": 78,
   "metadata": {},
   "outputs": [],
   "source": [
    "# Buid Model\n",
    "model = tf.keras.Sequential([\n",
    "    tf.keras.layers.Embedding(vocab_size, embedding_dim, input_length = max_length), # Embedding das palavras tokenizadas\n",
    "    tf.keras.layers.GlobalAveragePooling1D(),\n",
    "    #tf.keras.layers.Dense(64, activation = 'relu'),\n",
    "    tf.keras.layers.Dense(6, activation = 'relu'),\n",
    "    tf.keras.layers.Dense(1, activation = 'sigmoid')\n",
    "    ])\n",
    "\n",
    "# Compile\n",
    "loss = 'binary_crossentropy'\n",
    "optimizer = 'adam'\n",
    "metrics = ['accuracy']\n",
    "\n",
    "model.compile(  loss= loss,\n",
    "                optimizer = optimizer,\n",
    "                metrics = metrics)"
   ]
  },
  {
   "cell_type": "code",
   "execution_count": 79,
   "metadata": {},
   "outputs": [
    {
     "name": "stdout",
     "output_type": "stream",
     "text": [
      "Model: \"sequential_4\"\n",
      "_________________________________________________________________\n",
      " Layer (type)                Output Shape              Param #   \n",
      "=================================================================\n",
      " embedding_4 (Embedding)     (None, 1000, 16)          320000    \n",
      "                                                                 \n",
      " global_average_pooling1d_4   (None, 16)               0         \n",
      " (GlobalAveragePooling1D)                                        \n",
      "                                                                 \n",
      " dense_10 (Dense)            (None, 6)                 102       \n",
      "                                                                 \n",
      " dense_11 (Dense)            (None, 1)                 7         \n",
      "                                                                 \n",
      "=================================================================\n",
      "Total params: 320,109\n",
      "Trainable params: 320,109\n",
      "Non-trainable params: 0\n",
      "_________________________________________________________________\n"
     ]
    }
   ],
   "source": [
    "model.summary()"
   ]
  },
  {
   "cell_type": "markdown",
   "metadata": {},
   "source": [
    "### 2.1.1 Model Fit"
   ]
  },
  {
   "cell_type": "code",
   "execution_count": 80,
   "metadata": {},
   "outputs": [],
   "source": [
    "n_epochs = 15"
   ]
  },
  {
   "cell_type": "code",
   "execution_count": 81,
   "metadata": {},
   "outputs": [
    {
     "name": "stdout",
     "output_type": "stream",
     "text": [
      "Epoch 1/15\n",
      "2813/2813 - 35s - loss: 0.5116 - accuracy: 0.7602 - val_loss: 0.4228 - val_accuracy: 0.7858 - 35s/epoch - 12ms/step\n",
      "Epoch 2/15\n",
      "2813/2813 - 29s - loss: 0.3181 - accuracy: 0.8635 - val_loss: 0.3087 - val_accuracy: 0.8676 - 29s/epoch - 10ms/step\n",
      "Epoch 3/15\n",
      "2813/2813 - 31s - loss: 0.2632 - accuracy: 0.8969 - val_loss: 0.2866 - val_accuracy: 0.8888 - 31s/epoch - 11ms/step\n",
      "Epoch 4/15\n",
      "2813/2813 - 32s - loss: 0.2473 - accuracy: 0.9065 - val_loss: 0.2815 - val_accuracy: 0.8926 - 32s/epoch - 11ms/step\n",
      "Epoch 5/15\n",
      "2813/2813 - 32s - loss: 0.2362 - accuracy: 0.9123 - val_loss: 0.2717 - val_accuracy: 0.8927 - 32s/epoch - 11ms/step\n",
      "Epoch 6/15\n",
      "2813/2813 - 31s - loss: 0.2277 - accuracy: 0.9172 - val_loss: 0.2711 - val_accuracy: 0.8979 - 31s/epoch - 11ms/step\n",
      "Epoch 7/15\n",
      "2813/2813 - 28s - loss: 0.2212 - accuracy: 0.9198 - val_loss: 0.2644 - val_accuracy: 0.8985 - 28s/epoch - 10ms/step\n",
      "Epoch 8/15\n",
      "2813/2813 - 29s - loss: 0.2163 - accuracy: 0.9222 - val_loss: 0.2653 - val_accuracy: 0.8978 - 29s/epoch - 10ms/step\n",
      "Epoch 9/15\n",
      "2813/2813 - 28s - loss: 0.2114 - accuracy: 0.9256 - val_loss: 0.2632 - val_accuracy: 0.9003 - 28s/epoch - 10ms/step\n",
      "Epoch 10/15\n",
      "2813/2813 - 28s - loss: 0.2071 - accuracy: 0.9269 - val_loss: 0.2621 - val_accuracy: 0.9008 - 28s/epoch - 10ms/step\n",
      "Epoch 11/15\n",
      "2813/2813 - 29s - loss: 0.2044 - accuracy: 0.9280 - val_loss: 0.2618 - val_accuracy: 0.9013 - 29s/epoch - 10ms/step\n",
      "Epoch 12/15\n",
      "2813/2813 - 28s - loss: 0.2012 - accuracy: 0.9297 - val_loss: 0.2634 - val_accuracy: 0.9023 - 28s/epoch - 10ms/step\n",
      "Epoch 13/15\n",
      "2813/2813 - 28s - loss: 0.1970 - accuracy: 0.9317 - val_loss: 0.2635 - val_accuracy: 0.9006 - 28s/epoch - 10ms/step\n",
      "Epoch 14/15\n",
      "2813/2813 - 28s - loss: 0.1948 - accuracy: 0.9327 - val_loss: 0.2718 - val_accuracy: 0.8946 - 28s/epoch - 10ms/step\n",
      "Epoch 15/15\n",
      "2813/2813 - 28s - loss: 0.1923 - accuracy: 0.9340 - val_loss: 0.2875 - val_accuracy: 0.8867 - 28s/epoch - 10ms/step\n"
     ]
    }
   ],
   "source": [
    "history = model.fit(training_padded,\n",
    "                    training_labels_final,\n",
    "                    epochs = n_epochs,\n",
    "                    validation_data = (testing_padded, testing_labels_final),\n",
    "                    verbose = 2)"
   ]
  },
  {
   "cell_type": "markdown",
   "metadata": {},
   "source": [
    "### 2.1.3 Results"
   ]
  },
  {
   "cell_type": "code",
   "execution_count": 89,
   "metadata": {},
   "outputs": [],
   "source": [
    "def plot_graphs(history, string):\n",
    "    sns.set()\n",
    "    plt.plot(history.history[string])\n",
    "    plt.plot(history.history['val_'+string])\n",
    "    plt.xlabel('Epochs')\n",
    "    plt.ylabel(string)\n",
    "    plt.legend([string, 'val_'+string])\n",
    "    plt.show()"
   ]
  },
  {
   "cell_type": "code",
   "execution_count": 90,
   "metadata": {},
   "outputs": [
    {
     "data": {
      "image/png": "[encoded data removed]",
      "text/plain": [
       "<Figure size 432x288 with 1 Axes>"
      ]
     },
     "metadata": {},
     "output_type": "display_data"
    },
    {
     "data": {
      "image/png": "[encoded data removed]",
      "text/plain": [
       "<Figure size 432x288 with 1 Axes>"
      ]
     },
     "metadata": {},
     "output_type": "display_data"
    }
   ],
   "source": [
    "plot_graphs(history, 'accuracy')\n",
    "plot_graphs(history, 'loss')"
   ]
  },
  {
   "cell_type": "markdown",
   "metadata": {},
   "source": [
    "# 3.0 Embeddings"
   ]
  },
  {
   "cell_type": "code",
   "execution_count": 91,
   "metadata": {},
   "outputs": [
    {
     "name": "stdout",
     "output_type": "stream",
     "text": [
      "(20000, 16)\n"
     ]
    }
   ],
   "source": [
    "# Obtendo os resultados da camada de embedding (primeira camada)\n",
    "e = model.layers[0]\n",
    "weights = e.get_weights()[0]\n",
    "print(weights.shape) # Shape: (Vocab_size, embedding_dim)\n",
    "# 20000 Palavras e 16 dimensões"
   ]
  },
  {
   "cell_type": "code",
   "execution_count": 92,
   "metadata": {},
   "outputs": [],
   "source": [
    "# Para sermos capazes de plotar as palavras como vetores, devemos obter o índice de palavras ao contrário\n",
    "reverse_word_index = dict([(value, key) for (key,value) in word_index.items()])"
   ]
  },
  {
   "cell_type": "markdown",
   "metadata": {},
   "source": [
    "### 3.1 Escrevendo os vetores em formatos de metadados"
   ]
  },
  {
   "cell_type": "code",
   "execution_count": 93,
   "metadata": {},
   "outputs": [],
   "source": [
    "out_v = io.open(r'D:\\projetos\\Projetos_NLP\\text_classifier\\data\\external\\vecs.tsv', 'w', encoding='utf-8')\n",
    "out_m = io.open(r'D:\\projetos\\Projetos_NLP\\text_classifier\\data\\external\\meta.tsv', 'w', encoding='utf-8')"
   ]
  },
  {
   "cell_type": "code",
   "execution_count": 94,
   "metadata": {},
   "outputs": [],
   "source": [
    "for word_num in range(1, vocab_size):\n",
    "    word = reverse_word_index[word_num]\n",
    "    embeddings = weights[word_num]\n",
    "    out_m.write(word + '\\n')\n",
    "    out_v.write('\\t'.join([str(x) for x in embeddings]) + '\\n')\n",
    "out_m.close()\n",
    "out_v.close()"
   ]
  },
  {
   "cell_type": "markdown",
   "metadata": {},
   "source": [
    "O projecto TensorFlow lê esse tipo de arquivo e usa os dados para plotar um gráfico em 3D"
   ]
  }
 ],
 "metadata": {
  "interpreter": {
   "hash": "ab318d98fe8971464deaa9d0bce770c3609a8f7d41d6063956405d85894746aa"
  },
  "kernelspec": {
   "display_name": "Python 3.9.8 ('text_classifier': venv)",
   "language": "python",
   "name": "python3"
  },
  "language_info": {
   "codemirror_mode": {
    "name": "ipython",
    "version": 3
   },
   "file_extension": ".py",
   "mimetype": "text/x-python",
   "name": "python",
   "nbconvert_exporter": "python",
   "pygments_lexer": "ipython3",
   "version": "3.9.8"
  },
  "orig_nbformat": 4
 },
 "nbformat": 4,
 "nbformat_minor": 2
}
